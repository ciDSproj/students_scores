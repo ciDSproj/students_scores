{
 "cells": [
  {
   "cell_type": "markdown",
   "id": "0c47d9b8",
   "metadata": {},
   "source": [
    "## Students Exam Scores"
   ]
  },
  {
   "cell_type": "markdown",
   "id": "57664af7",
   "metadata": {},
   "source": [
    "### Summary\n",
    "\n",
    "This project covers data cleaning and analysis of the \n",
    "<a href=\"https://www.kaggle.com/datasets/desalegngeb/students-exam-scores\">Students Exam Scores</a> dataset\n",
    "from <a href='https://www.kaggle.com/'>Kaggle</a>.\n",
    "\n",
    "It includes **data preprocessing** and **computation**, **visualization** and **analysis** of the factors that influence \n",
    "students test scores.\n",
    "\n",
    "It uses Python, Numpy and Pandas libraries for data manipulation, Matplotlib and Seaborn for visualizations."
   ]
  },
  {
   "cell_type": "markdown",
   "id": "799a970e",
   "metadata": {},
   "source": [
    "### Dataset Description"
   ]
  },
  {
   "cell_type": "markdown",
   "id": "1ac80e89",
   "metadata": {},
   "source": [
    "The **Students Exam Scores** dataset includes scores from three exams of students at a (fictional) public school and a variety of \n",
    "personal and socio-economic factors that may have interaction effects upon them. The dataset contains **30641 observations and\n",
    "14 attributes**.\n",
    "\n",
    "**Atribute information:**\n",
    "\n",
    "- **Gender**: Gender of the student (male/female)\n",
    "- **EthnicGroup**: Ethnic group of the student (group A to E)\n",
    "- **ParentEduc**: Parent(s) education background (from some_highschool to master's degree)\n",
    "- **LunchType**: School lunch type (standard or free/reduced)\n",
    "- **TestPrep**: Test preparation course followed (completed or none)\n",
    "- **ParentMaritalStatus**: Parent(s) marital status (married/single/widowed/divorced)\n",
    "- **PracticeSport**: How often the student parctice sport (never/sometimes/regularly))\n",
    "- **IsFirstChild**: If the child is first child in the family or not (yes/no)\n",
    "- **NrSiblings**: Number of siblings the student has (0 to 7)\n",
    "- **TransportMeans**: Means of transport to school (schoolbus/private)\n",
    "- **WklyStudyHours**: Weekly self-study hours(less that 5hrs; between 5 and 10hrs; more than 10hrs)\n",
    "- **MathScore**: math test score(0-100)\n",
    "- **ReadingScore**: reading test score(0-100)\n",
    "- **WritingScore**: writing test score(0-100)"
   ]
  },
  {
   "cell_type": "markdown",
   "id": "a3b749ff",
   "metadata": {},
   "source": [
    "### Import libraries"
   ]
  },
  {
   "cell_type": "code",
   "execution_count": 1,
   "id": "c3c66cd9",
   "metadata": {},
   "outputs": [],
   "source": [
    "import pandas as pd\n",
    "import numpy as np\n",
    "import matplotlib.pyplot as plt\n",
    "import seaborn as sns\n",
    "sns.set_style('darkgrid')\n",
    "from scipy import stats"
   ]
  },
  {
   "cell_type": "markdown",
   "id": "a7c39396",
   "metadata": {},
   "source": [
    "### Load data"
   ]
  },
  {
   "cell_type": "code",
   "execution_count": 2,
   "id": "63d06916",
   "metadata": {},
   "outputs": [
    {
     "name": "stdout",
     "output_type": "stream",
     "text": [
      "Dataset shape:  (30641, 15)\n"
     ]
    },
    {
     "data": {
      "text/html": [
       "<div>\n",
       "<style scoped>\n",
       "    .dataframe tbody tr th:only-of-type {\n",
       "        vertical-align: middle;\n",
       "    }\n",
       "\n",
       "    .dataframe tbody tr th {\n",
       "        vertical-align: top;\n",
       "    }\n",
       "\n",
       "    .dataframe thead th {\n",
       "        text-align: right;\n",
       "    }\n",
       "</style>\n",
       "<table border=\"1\" class=\"dataframe\">\n",
       "  <thead>\n",
       "    <tr style=\"text-align: right;\">\n",
       "      <th></th>\n",
       "      <th>Unnamed: 0</th>\n",
       "      <th>Gender</th>\n",
       "      <th>EthnicGroup</th>\n",
       "      <th>ParentEduc</th>\n",
       "      <th>LunchType</th>\n",
       "      <th>TestPrep</th>\n",
       "      <th>ParentMaritalStatus</th>\n",
       "      <th>PracticeSport</th>\n",
       "      <th>IsFirstChild</th>\n",
       "      <th>NrSiblings</th>\n",
       "      <th>TransportMeans</th>\n",
       "      <th>WklyStudyHours</th>\n",
       "      <th>MathScore</th>\n",
       "      <th>ReadingScore</th>\n",
       "      <th>WritingScore</th>\n",
       "    </tr>\n",
       "  </thead>\n",
       "  <tbody>\n",
       "    <tr>\n",
       "      <th>0</th>\n",
       "      <td>0</td>\n",
       "      <td>female</td>\n",
       "      <td>NaN</td>\n",
       "      <td>bachelor's degree</td>\n",
       "      <td>standard</td>\n",
       "      <td>none</td>\n",
       "      <td>married</td>\n",
       "      <td>regularly</td>\n",
       "      <td>yes</td>\n",
       "      <td>3.0</td>\n",
       "      <td>school_bus</td>\n",
       "      <td>&lt; 5</td>\n",
       "      <td>71</td>\n",
       "      <td>71</td>\n",
       "      <td>74</td>\n",
       "    </tr>\n",
       "    <tr>\n",
       "      <th>1</th>\n",
       "      <td>1</td>\n",
       "      <td>female</td>\n",
       "      <td>group C</td>\n",
       "      <td>some college</td>\n",
       "      <td>standard</td>\n",
       "      <td>NaN</td>\n",
       "      <td>married</td>\n",
       "      <td>sometimes</td>\n",
       "      <td>yes</td>\n",
       "      <td>0.0</td>\n",
       "      <td>NaN</td>\n",
       "      <td>5 - 10</td>\n",
       "      <td>69</td>\n",
       "      <td>90</td>\n",
       "      <td>88</td>\n",
       "    </tr>\n",
       "    <tr>\n",
       "      <th>2</th>\n",
       "      <td>2</td>\n",
       "      <td>female</td>\n",
       "      <td>group B</td>\n",
       "      <td>master's degree</td>\n",
       "      <td>standard</td>\n",
       "      <td>none</td>\n",
       "      <td>single</td>\n",
       "      <td>sometimes</td>\n",
       "      <td>yes</td>\n",
       "      <td>4.0</td>\n",
       "      <td>school_bus</td>\n",
       "      <td>&lt; 5</td>\n",
       "      <td>87</td>\n",
       "      <td>93</td>\n",
       "      <td>91</td>\n",
       "    </tr>\n",
       "    <tr>\n",
       "      <th>3</th>\n",
       "      <td>3</td>\n",
       "      <td>male</td>\n",
       "      <td>group A</td>\n",
       "      <td>associate's degree</td>\n",
       "      <td>free/reduced</td>\n",
       "      <td>none</td>\n",
       "      <td>married</td>\n",
       "      <td>never</td>\n",
       "      <td>no</td>\n",
       "      <td>1.0</td>\n",
       "      <td>NaN</td>\n",
       "      <td>5 - 10</td>\n",
       "      <td>45</td>\n",
       "      <td>56</td>\n",
       "      <td>42</td>\n",
       "    </tr>\n",
       "    <tr>\n",
       "      <th>4</th>\n",
       "      <td>4</td>\n",
       "      <td>male</td>\n",
       "      <td>group C</td>\n",
       "      <td>some college</td>\n",
       "      <td>standard</td>\n",
       "      <td>none</td>\n",
       "      <td>married</td>\n",
       "      <td>sometimes</td>\n",
       "      <td>yes</td>\n",
       "      <td>0.0</td>\n",
       "      <td>school_bus</td>\n",
       "      <td>5 - 10</td>\n",
       "      <td>76</td>\n",
       "      <td>78</td>\n",
       "      <td>75</td>\n",
       "    </tr>\n",
       "  </tbody>\n",
       "</table>\n",
       "</div>"
      ],
      "text/plain": [
       "   Unnamed: 0  Gender EthnicGroup          ParentEduc     LunchType TestPrep  \\\n",
       "0           0  female         NaN   bachelor's degree      standard     none   \n",
       "1           1  female     group C        some college      standard      NaN   \n",
       "2           2  female     group B     master's degree      standard     none   \n",
       "3           3    male     group A  associate's degree  free/reduced     none   \n",
       "4           4    male     group C        some college      standard     none   \n",
       "\n",
       "  ParentMaritalStatus PracticeSport IsFirstChild  NrSiblings TransportMeans  \\\n",
       "0             married     regularly          yes         3.0     school_bus   \n",
       "1             married     sometimes          yes         0.0            NaN   \n",
       "2              single     sometimes          yes         4.0     school_bus   \n",
       "3             married         never           no         1.0            NaN   \n",
       "4             married     sometimes          yes         0.0     school_bus   \n",
       "\n",
       "  WklyStudyHours  MathScore  ReadingScore  WritingScore  \n",
       "0            < 5         71            71            74  \n",
       "1         5 - 10         69            90            88  \n",
       "2            < 5         87            93            91  \n",
       "3         5 - 10         45            56            42  \n",
       "4         5 - 10         76            78            75  "
      ]
     },
     "execution_count": 2,
     "metadata": {},
     "output_type": "execute_result"
    }
   ],
   "source": [
    "# Retrieve data in a pandas dataframe \n",
    "students = pd.read_csv(\"Students Scores.csv\")\n",
    "\n",
    "# Print the shape and the first rows\n",
    "print(\"Dataset shape: \", students.shape)\n",
    "students.head()"
   ]
  },
  {
   "cell_type": "markdown",
   "id": "c3ab8498",
   "metadata": {},
   "source": [
    "### Drop first column \"Unnamed: 0\""
   ]
  },
  {
   "cell_type": "code",
   "execution_count": 3,
   "id": "caa500fa",
   "metadata": {},
   "outputs": [],
   "source": [
    "# Drop column \"Unnamed: 0\"\n",
    "students = students.drop(\"Unnamed: 0\", axis=1)"
   ]
  },
  {
   "cell_type": "markdown",
   "id": "60903dbc",
   "metadata": {},
   "source": [
    "### Get columns info"
   ]
  },
  {
   "cell_type": "code",
   "execution_count": 4,
   "id": "dbe2646f",
   "metadata": {},
   "outputs": [
    {
     "name": "stdout",
     "output_type": "stream",
     "text": [
      "<class 'pandas.core.frame.DataFrame'>\n",
      "RangeIndex: 30641 entries, 0 to 30640\n",
      "Data columns (total 14 columns):\n",
      " #   Column               Non-Null Count  Dtype  \n",
      "---  ------               --------------  -----  \n",
      " 0   Gender               30641 non-null  object \n",
      " 1   EthnicGroup          28801 non-null  object \n",
      " 2   ParentEduc           28796 non-null  object \n",
      " 3   LunchType            30641 non-null  object \n",
      " 4   TestPrep             28811 non-null  object \n",
      " 5   ParentMaritalStatus  29451 non-null  object \n",
      " 6   PracticeSport        30010 non-null  object \n",
      " 7   IsFirstChild         29737 non-null  object \n",
      " 8   NrSiblings           29069 non-null  float64\n",
      " 9   TransportMeans       27507 non-null  object \n",
      " 10  WklyStudyHours       29686 non-null  object \n",
      " 11  MathScore            30641 non-null  int64  \n",
      " 12  ReadingScore         30641 non-null  int64  \n",
      " 13  WritingScore         30641 non-null  int64  \n",
      "dtypes: float64(1), int64(3), object(10)\n",
      "memory usage: 3.3+ MB\n"
     ]
    }
   ],
   "source": [
    "# Get info about datatypes\n",
    "students.info()"
   ]
  },
  {
   "cell_type": "markdown",
   "id": "f4583ec3",
   "metadata": {},
   "source": [
    "The dataset has four numeric and ten categorical attributes. **Most of the columns have missing values**."
   ]
  },
  {
   "cell_type": "markdown",
   "id": "6ead71aa",
   "metadata": {},
   "source": [
    "###  Descriptive statistics"
   ]
  },
  {
   "cell_type": "code",
   "execution_count": 5,
   "id": "e893dcf1",
   "metadata": {},
   "outputs": [
    {
     "data": {
      "text/html": [
       "<style type=\"text/css\">\n",
       "</style>\n",
       "<table id=\"T_c0948\">\n",
       "  <thead>\n",
       "    <tr>\n",
       "      <th class=\"blank level0\" >&nbsp;</th>\n",
       "      <th id=\"T_c0948_level0_col0\" class=\"col_heading level0 col0\" >NrSiblings</th>\n",
       "      <th id=\"T_c0948_level0_col1\" class=\"col_heading level0 col1\" >MathScore</th>\n",
       "      <th id=\"T_c0948_level0_col2\" class=\"col_heading level0 col2\" >ReadingScore</th>\n",
       "      <th id=\"T_c0948_level0_col3\" class=\"col_heading level0 col3\" >WritingScore</th>\n",
       "    </tr>\n",
       "  </thead>\n",
       "  <tbody>\n",
       "    <tr>\n",
       "      <th id=\"T_c0948_level0_row0\" class=\"row_heading level0 row0\" >count</th>\n",
       "      <td id=\"T_c0948_row0_col0\" class=\"data row0 col0\" >29069.00</td>\n",
       "      <td id=\"T_c0948_row0_col1\" class=\"data row0 col1\" >30641.00</td>\n",
       "      <td id=\"T_c0948_row0_col2\" class=\"data row0 col2\" >30641.00</td>\n",
       "      <td id=\"T_c0948_row0_col3\" class=\"data row0 col3\" >30641.00</td>\n",
       "    </tr>\n",
       "    <tr>\n",
       "      <th id=\"T_c0948_level0_row1\" class=\"row_heading level0 row1\" >mean</th>\n",
       "      <td id=\"T_c0948_row1_col0\" class=\"data row1 col0\" >2.15</td>\n",
       "      <td id=\"T_c0948_row1_col1\" class=\"data row1 col1\" >66.56</td>\n",
       "      <td id=\"T_c0948_row1_col2\" class=\"data row1 col2\" >69.38</td>\n",
       "      <td id=\"T_c0948_row1_col3\" class=\"data row1 col3\" >68.42</td>\n",
       "    </tr>\n",
       "    <tr>\n",
       "      <th id=\"T_c0948_level0_row2\" class=\"row_heading level0 row2\" >std</th>\n",
       "      <td id=\"T_c0948_row2_col0\" class=\"data row2 col0\" >1.46</td>\n",
       "      <td id=\"T_c0948_row2_col1\" class=\"data row2 col1\" >15.36</td>\n",
       "      <td id=\"T_c0948_row2_col2\" class=\"data row2 col2\" >14.76</td>\n",
       "      <td id=\"T_c0948_row2_col3\" class=\"data row2 col3\" >15.44</td>\n",
       "    </tr>\n",
       "    <tr>\n",
       "      <th id=\"T_c0948_level0_row3\" class=\"row_heading level0 row3\" >min</th>\n",
       "      <td id=\"T_c0948_row3_col0\" class=\"data row3 col0\" >0.00</td>\n",
       "      <td id=\"T_c0948_row3_col1\" class=\"data row3 col1\" >0.00</td>\n",
       "      <td id=\"T_c0948_row3_col2\" class=\"data row3 col2\" >10.00</td>\n",
       "      <td id=\"T_c0948_row3_col3\" class=\"data row3 col3\" >4.00</td>\n",
       "    </tr>\n",
       "    <tr>\n",
       "      <th id=\"T_c0948_level0_row4\" class=\"row_heading level0 row4\" >25%</th>\n",
       "      <td id=\"T_c0948_row4_col0\" class=\"data row4 col0\" >1.00</td>\n",
       "      <td id=\"T_c0948_row4_col1\" class=\"data row4 col1\" >56.00</td>\n",
       "      <td id=\"T_c0948_row4_col2\" class=\"data row4 col2\" >59.00</td>\n",
       "      <td id=\"T_c0948_row4_col3\" class=\"data row4 col3\" >58.00</td>\n",
       "    </tr>\n",
       "    <tr>\n",
       "      <th id=\"T_c0948_level0_row5\" class=\"row_heading level0 row5\" >50%</th>\n",
       "      <td id=\"T_c0948_row5_col0\" class=\"data row5 col0\" >2.00</td>\n",
       "      <td id=\"T_c0948_row5_col1\" class=\"data row5 col1\" >67.00</td>\n",
       "      <td id=\"T_c0948_row5_col2\" class=\"data row5 col2\" >70.00</td>\n",
       "      <td id=\"T_c0948_row5_col3\" class=\"data row5 col3\" >69.00</td>\n",
       "    </tr>\n",
       "    <tr>\n",
       "      <th id=\"T_c0948_level0_row6\" class=\"row_heading level0 row6\" >75%</th>\n",
       "      <td id=\"T_c0948_row6_col0\" class=\"data row6 col0\" >3.00</td>\n",
       "      <td id=\"T_c0948_row6_col1\" class=\"data row6 col1\" >78.00</td>\n",
       "      <td id=\"T_c0948_row6_col2\" class=\"data row6 col2\" >80.00</td>\n",
       "      <td id=\"T_c0948_row6_col3\" class=\"data row6 col3\" >79.00</td>\n",
       "    </tr>\n",
       "    <tr>\n",
       "      <th id=\"T_c0948_level0_row7\" class=\"row_heading level0 row7\" >max</th>\n",
       "      <td id=\"T_c0948_row7_col0\" class=\"data row7 col0\" >7.00</td>\n",
       "      <td id=\"T_c0948_row7_col1\" class=\"data row7 col1\" >100.00</td>\n",
       "      <td id=\"T_c0948_row7_col2\" class=\"data row7 col2\" >100.00</td>\n",
       "      <td id=\"T_c0948_row7_col3\" class=\"data row7 col3\" >100.00</td>\n",
       "    </tr>\n",
       "  </tbody>\n",
       "</table>\n"
      ],
      "text/plain": [
       "<pandas.io.formats.style.Styler at 0x2a77d613b80>"
      ]
     },
     "execution_count": 5,
     "metadata": {},
     "output_type": "execute_result"
    }
   ],
   "source": [
    "# Display descriptive statistics\n",
    "students.describe().style.format(\"{:.2f}\")"
   ]
  },
  {
   "cell_type": "markdown",
   "id": "f35e518e",
   "metadata": {},
   "source": [
    "We observe that the average number of siblings is 2.\n",
    "\n",
    "The **mean score** for math, reading and writing is **between 67-69**. The scores have almost the same standard deviation \n",
    "which indicates **similar variability**.\n",
    "\n",
    "Some students scored very low on tests with a **minimum of 0 for math**, **10 for reading** and **4 for writing**. Other students \n",
    "scored very high as indicated by the **maximum values of 100** for all the tests.\n",
    "\n",
    "From all the students, **25% scored below 56-59** and **25% scored above 78-80**. The median value (50th percentile) shows that \n",
    "**50%** of the students **scored** below the level of **67-70**."
   ]
  },
  {
   "cell_type": "markdown",
   "id": "81a8bd34",
   "metadata": {},
   "source": [
    "## Data Cleaning and Preprocessing"
   ]
  },
  {
   "cell_type": "markdown",
   "id": "9a01021f",
   "metadata": {},
   "source": [
    "### Check for duplicates"
   ]
  },
  {
   "cell_type": "code",
   "execution_count": 6,
   "id": "dea1e7ae",
   "metadata": {},
   "outputs": [
    {
     "data": {
      "text/plain": [
       "0"
      ]
     },
     "execution_count": 6,
     "metadata": {},
     "output_type": "execute_result"
    }
   ],
   "source": [
    "# Get the sum of duplicates\n",
    "students.duplicated().sum()"
   ]
  },
  {
   "cell_type": "markdown",
   "id": "82a39219",
   "metadata": {},
   "source": [
    "There are **no duplicated values** in the dataset."
   ]
  },
  {
   "cell_type": "markdown",
   "id": "35854718",
   "metadata": {},
   "source": [
    "### Handle missing values"
   ]
  },
  {
   "cell_type": "code",
   "execution_count": 7,
   "id": "d8dfb19a",
   "metadata": {},
   "outputs": [
    {
     "data": {
      "text/plain": [
       "Gender                    0\n",
       "EthnicGroup            1840\n",
       "ParentEduc             1845\n",
       "LunchType                 0\n",
       "TestPrep               1830\n",
       "ParentMaritalStatus    1190\n",
       "PracticeSport           631\n",
       "IsFirstChild            904\n",
       "NrSiblings             1572\n",
       "TransportMeans         3134\n",
       "WklyStudyHours          955\n",
       "MathScore                 0\n",
       "ReadingScore              0\n",
       "WritingScore              0\n",
       "dtype: int64"
      ]
     },
     "execution_count": 7,
     "metadata": {},
     "output_type": "execute_result"
    }
   ],
   "source": [
    "# Check missing values in all columns\n",
    "students.isnull().sum()"
   ]
  },
  {
   "cell_type": "markdown",
   "id": "bb2b4fdd",
   "metadata": {},
   "source": [
    "There are **missing values** in several **categorical columns** and in the **\"NrSiblings\" numerical column**."
   ]
  },
  {
   "cell_type": "markdown",
   "id": "c83a53f1",
   "metadata": {},
   "source": [
    "### Impute missing values with median in numerical column 'NrSiblings'"
   ]
  },
  {
   "cell_type": "markdown",
   "id": "272bbe39",
   "metadata": {},
   "source": [
    "The numerical column 'NrSiblings' contains the number of siblings in the family and has 1572 missing values. \n",
    "\n",
    "We'll replace NaN's with the median value, then cast the column from \"float\" to integer type."
   ]
  },
  {
   "cell_type": "code",
   "execution_count": 8,
   "id": "8393d5e2",
   "metadata": {},
   "outputs": [
    {
     "data": {
      "text/plain": [
       "0"
      ]
     },
     "execution_count": 8,
     "metadata": {},
     "output_type": "execute_result"
    }
   ],
   "source": [
    "# Create a mask to filter NaN values\n",
    "HasNan = np.isnan(students.loc[:, 'NrSiblings'])\n",
    "\n",
    "# Fill NaN's with median of the column\n",
    "students.loc[HasNan, 'NrSiblings'] = \\\n",
    "          np.nanmedian(students.loc[:, 'NrSiblings'])\n",
    "\n",
    "# Check again for missing values\n",
    "students['NrSiblings'].isnull().sum()"
   ]
  },
  {
   "cell_type": "code",
   "execution_count": 9,
   "id": "57f0a0f4",
   "metadata": {},
   "outputs": [
    {
     "data": {
      "text/plain": [
       "dtype('int32')"
      ]
     },
     "execution_count": 9,
     "metadata": {},
     "output_type": "execute_result"
    }
   ],
   "source": [
    "# Cast the column from object to integer type\n",
    "students.loc[:, 'NrSiblings'] = \\\n",
    "     students.loc[:, 'NrSiblings'].astype(int)\n",
    "\n",
    "# Verify the dtype\n",
    "students.loc[:, 'NrSiblings'].dtype"
   ]
  },
  {
   "cell_type": "markdown",
   "id": "cc7a1fb5",
   "metadata": {},
   "source": [
    "### Impute missing values with mode in categorical columns "
   ]
  },
  {
   "cell_type": "code",
   "execution_count": 10,
   "id": "745ba965",
   "metadata": {},
   "outputs": [],
   "source": [
    "# Fill missing values with the \n",
    "# most frequent value\n",
    "students = students.apply(\n",
    "           lambda x: x.fillna(\n",
    "           x.value_counts().index[0]))"
   ]
  },
  {
   "cell_type": "code",
   "execution_count": 11,
   "id": "1449c537",
   "metadata": {},
   "outputs": [
    {
     "data": {
      "text/plain": [
       "Gender                 0\n",
       "EthnicGroup            0\n",
       "ParentEduc             0\n",
       "LunchType              0\n",
       "TestPrep               0\n",
       "ParentMaritalStatus    0\n",
       "PracticeSport          0\n",
       "IsFirstChild           0\n",
       "NrSiblings             0\n",
       "TransportMeans         0\n",
       "WklyStudyHours         0\n",
       "MathScore              0\n",
       "ReadingScore           0\n",
       "WritingScore           0\n",
       "dtype: int64"
      ]
     },
     "execution_count": 11,
     "metadata": {},
     "output_type": "execute_result"
    }
   ],
   "source": [
    "# Check if there ar any missing values in all columns\n",
    "students.isnull().sum()"
   ]
  },
  {
   "cell_type": "markdown",
   "id": "fb968a79",
   "metadata": {},
   "source": [
    "### Drop columns 'LunchType' and 'TransportMeans'"
   ]
  },
  {
   "cell_type": "markdown",
   "id": "37bfde1d",
   "metadata": {},
   "source": [
    "Drop the columns 'LunchType' and 'TransportMeans' because it will not provide useful insights for us."
   ]
  },
  {
   "cell_type": "code",
   "execution_count": 12,
   "id": "b1e33397",
   "metadata": {},
   "outputs": [],
   "source": [
    "# Drop the columns 'LunchType' and 'TransportMeans'\n",
    "students.drop(columns=['LunchType', 'TransportMeans'], \n",
    "              inplace=True)"
   ]
  },
  {
   "cell_type": "markdown",
   "id": "855400ec",
   "metadata": {},
   "source": [
    "### Map categories in columns"
   ]
  },
  {
   "cell_type": "code",
   "execution_count": 13,
   "id": "c4dae373",
   "metadata": {},
   "outputs": [],
   "source": [
    "# Map categories for column 'TestPrep'\n",
    "students['TestPrep'] = students['TestPrep'].\\\n",
    "        map({'none':'no', 'completed':'yes'})   "
   ]
  },
  {
   "cell_type": "markdown",
   "id": "5343d7eb",
   "metadata": {},
   "source": [
    "### Add two new columns: Scores and Grades"
   ]
  },
  {
   "cell_type": "markdown",
   "id": "4953e47a",
   "metadata": {},
   "source": [
    "We'll add two new columns that will be useful for data analysis:\n",
    "- **Scores** contains the **average of Math, Reading and Writing scores**\n",
    "<br>\n",
    "\n",
    "- **Grades** represents students' **grades from A to F** according to Scores"
   ]
  },
  {
   "cell_type": "code",
   "execution_count": 14,
   "id": "e5187e03",
   "metadata": {},
   "outputs": [
    {
     "data": {
      "text/html": [
       "<div>\n",
       "<style scoped>\n",
       "    .dataframe tbody tr th:only-of-type {\n",
       "        vertical-align: middle;\n",
       "    }\n",
       "\n",
       "    .dataframe tbody tr th {\n",
       "        vertical-align: top;\n",
       "    }\n",
       "\n",
       "    .dataframe thead th {\n",
       "        text-align: right;\n",
       "    }\n",
       "</style>\n",
       "<table border=\"1\" class=\"dataframe\">\n",
       "  <thead>\n",
       "    <tr style=\"text-align: right;\">\n",
       "      <th></th>\n",
       "      <th>Gender</th>\n",
       "      <th>EthnicGroup</th>\n",
       "      <th>ParentEduc</th>\n",
       "      <th>TestPrep</th>\n",
       "      <th>ParentMaritalStatus</th>\n",
       "      <th>PracticeSport</th>\n",
       "      <th>IsFirstChild</th>\n",
       "      <th>NrSiblings</th>\n",
       "      <th>WklyStudyHours</th>\n",
       "      <th>MathScore</th>\n",
       "      <th>ReadingScore</th>\n",
       "      <th>WritingScore</th>\n",
       "      <th>Scores</th>\n",
       "      <th>Grades</th>\n",
       "    </tr>\n",
       "  </thead>\n",
       "  <tbody>\n",
       "    <tr>\n",
       "      <th>0</th>\n",
       "      <td>female</td>\n",
       "      <td>group C</td>\n",
       "      <td>bachelor's degree</td>\n",
       "      <td>no</td>\n",
       "      <td>married</td>\n",
       "      <td>regularly</td>\n",
       "      <td>yes</td>\n",
       "      <td>3</td>\n",
       "      <td>&lt; 5</td>\n",
       "      <td>71</td>\n",
       "      <td>71</td>\n",
       "      <td>74</td>\n",
       "      <td>72.00</td>\n",
       "      <td>C</td>\n",
       "    </tr>\n",
       "    <tr>\n",
       "      <th>1</th>\n",
       "      <td>female</td>\n",
       "      <td>group C</td>\n",
       "      <td>some college</td>\n",
       "      <td>no</td>\n",
       "      <td>married</td>\n",
       "      <td>sometimes</td>\n",
       "      <td>yes</td>\n",
       "      <td>0</td>\n",
       "      <td>5 - 10</td>\n",
       "      <td>69</td>\n",
       "      <td>90</td>\n",
       "      <td>88</td>\n",
       "      <td>82.33</td>\n",
       "      <td>B</td>\n",
       "    </tr>\n",
       "    <tr>\n",
       "      <th>2</th>\n",
       "      <td>female</td>\n",
       "      <td>group B</td>\n",
       "      <td>master's degree</td>\n",
       "      <td>no</td>\n",
       "      <td>single</td>\n",
       "      <td>sometimes</td>\n",
       "      <td>yes</td>\n",
       "      <td>4</td>\n",
       "      <td>&lt; 5</td>\n",
       "      <td>87</td>\n",
       "      <td>93</td>\n",
       "      <td>91</td>\n",
       "      <td>90.33</td>\n",
       "      <td>A</td>\n",
       "    </tr>\n",
       "  </tbody>\n",
       "</table>\n",
       "</div>"
      ],
      "text/plain": [
       "   Gender EthnicGroup         ParentEduc TestPrep ParentMaritalStatus  \\\n",
       "0  female     group C  bachelor's degree       no             married   \n",
       "1  female     group C       some college       no             married   \n",
       "2  female     group B    master's degree       no              single   \n",
       "\n",
       "  PracticeSport IsFirstChild  NrSiblings WklyStudyHours  MathScore  \\\n",
       "0     regularly          yes           3            < 5         71   \n",
       "1     sometimes          yes           0         5 - 10         69   \n",
       "2     sometimes          yes           4            < 5         87   \n",
       "\n",
       "   ReadingScore  WritingScore  Scores Grades  \n",
       "0            71            74   72.00      C  \n",
       "1            90            88   82.33      B  \n",
       "2            93            91   90.33      A  "
      ]
     },
     "execution_count": 14,
     "metadata": {},
     "output_type": "execute_result"
    }
   ],
   "source": [
    "# Add a new column called 'Scores'\n",
    "students['Scores'] = ((students['MathScore'] + \\\n",
    "                students['ReadingScore'] + \\\n",
    "                students['WritingScore']) / 3).round(2)\n",
    "\n",
    "# Assuming the following grading scale:\n",
    "# A: 90-100, B: 80-89, \n",
    "# C: 70-79, D: 60-69, F: 0-59\n",
    "\n",
    "# Define function to assign grades\n",
    "def assign_grade(score):\n",
    "    \"\"\"Assign grades according to score\"\"\"\n",
    "    if 90 <= score <= 100:\n",
    "        return 'A'\n",
    "    elif 80 <= score < 90:\n",
    "        return 'B'\n",
    "    elif 70 <= score < 80:\n",
    "        return 'C'\n",
    "    elif 60 <= score < 70:\n",
    "        return 'D'\n",
    "    else:\n",
    "        return 'F'\n",
    "\n",
    "# Add a new column called 'Grades' that contains students grades\n",
    "students['Grades'] = students['Scores'].apply(assign_grade)\n",
    "\n",
    "students.head(3)"
   ]
  },
  {
   "cell_type": "markdown",
   "id": "f2da6990",
   "metadata": {},
   "source": [
    "## Exploratory Data Analysis"
   ]
  },
  {
   "cell_type": "markdown",
   "id": "6331391b",
   "metadata": {},
   "source": [
    "Using data analysis we try to answer the following question: \n",
    "\n",
    "### What factors influence students’ test scores?"
   ]
  },
  {
   "cell_type": "markdown",
   "id": "2448c88b",
   "metadata": {},
   "source": [
    "We'll explore next how each factor influences the overall scores."
   ]
  },
  {
   "cell_type": "markdown",
   "id": "c015b01e",
   "metadata": {},
   "source": [
    "### Distribution of Scores"
   ]
  },
  {
   "cell_type": "code",
   "execution_count": 15,
   "id": "e24ea7e2",
   "metadata": {},
   "outputs": [
    {
     "data": {
      "text/plain": [
       "Text(0.5, 1.0, 'Distribution of Scores')"
      ]
     },
     "execution_count": 15,
     "metadata": {},
     "output_type": "execute_result"
    },
    {
     "data": {
      "image/png": "[encoded data removed]",
      "text/plain": [
       "<Figure size 432x288 with 1 Axes>"
      ]
     },
     "metadata": {},
     "output_type": "display_data"
    }
   ],
   "source": [
    "# Define figure size\n",
    "plt.figure(figsize=(6, 4))\n",
    "\n",
    "# Histogram of Scores\n",
    "sns.histplot(data=students, \n",
    "             x=\"Scores\", \n",
    "             kde=True)\n",
    "# Give the plot a title\n",
    "plt.title(\"Distribution of Scores\",\n",
    "         fontsize=16)"
   ]
  },
  {
   "cell_type": "markdown",
   "id": "1ce52ab7",
   "metadata": {},
   "source": [
    "**Scores** variable has a normal distribution, slightly **skewed to the left**. It has a mean value of ~70, as shown by the plot above."
   ]
  },
  {
   "cell_type": "markdown",
   "id": "31e6e0bc",
   "metadata": {},
   "source": [
    "### Distribution of Grades"
   ]
  },
  {
   "cell_type": "code",
   "execution_count": 16,
   "id": "337497de",
   "metadata": {},
   "outputs": [
    {
     "data": {
      "text/plain": [
       "Text(0.5, 1.0, 'Grades')"
      ]
     },
     "execution_count": 16,
     "metadata": {},
     "output_type": "execute_result"
    },
    {
     "data": {
      "image/png": "[encoded data removed]",
      "text/plain": [
       "<Figure size 432x288 with 1 Axes>"
      ]
     },
     "metadata": {},
     "output_type": "display_data"
    }
   ],
   "source": [
    "# Define figure size\n",
    "plt.figure(figsize=(6, 4))\n",
    "\n",
    "sns.countplot(data = students, \n",
    "              y ='Grades',\n",
    "             palette=\"winter\")        \n",
    "# Plot title\n",
    "plt.title('Grades', \n",
    "          fontsize=16)"
   ]
  },
  {
   "cell_type": "markdown",
   "id": "7571615e",
   "metadata": {},
   "source": [
    "The **greatest number** of students **got F grades**, followed by D and C. The **lowest count** of grades is for \n",
    "**students who got A's**."
   ]
  },
  {
   "cell_type": "markdown",
   "id": "81330ce6",
   "metadata": {},
   "source": [
    "### Scores by Test Preparation and Weekly Study Hours"
   ]
  },
  {
   "cell_type": "code",
   "execution_count": 17,
   "id": "48105455",
   "metadata": {},
   "outputs": [
    {
     "data": {
      "image/png": "[encoded data removed]",
      "text/plain": [
       "<Figure size 648x288 with 2 Axes>"
      ]
     },
     "metadata": {},
     "output_type": "display_data"
    }
   ],
   "source": [
    "# Barplots for:\n",
    "# Weekly Study Hours\n",
    "# Test Preparation\n",
    "\n",
    "# Create a figure and three subplots\n",
    "fig, axs = plt.subplots(1, 2, figsize=(9, 4))\n",
    "\n",
    "# Iterate over the columns and create the box plots\n",
    "columns = ['TestPrep', 'WklyStudyHours']\n",
    "for i, col in enumerate(columns):\n",
    "    ax = axs[i]\n",
    "    sns.countplot(y=students[col], \n",
    "                  ax=ax, palette=\"YlGnBu_r\")\n",
    "    ax.set_title(col, fontsize=16)\n",
    "\n",
    "# Adjust the spacing between subplots\n",
    "plt.tight_layout()\n",
    "\n",
    "# Display the plot\n",
    "plt.show()"
   ]
  },
  {
   "cell_type": "markdown",
   "id": "5b6ac459",
   "metadata": {},
   "source": [
    "**Most** of the **students** study between **5 and 10 hours per week**. Only a **small number** of students study **over 10 hours**\n",
    "per week.\n",
    "\n",
    "Also, **most** of the students **do not prepare for the tests**."
   ]
  },
  {
   "cell_type": "code",
   "execution_count": 18,
   "id": "b9e26f5f",
   "metadata": {},
   "outputs": [
    {
     "data": {
      "image/png": "[encoded data removed]",
      "text/plain": [
       "<Figure size 864x288 with 2 Axes>"
      ]
     },
     "metadata": {},
     "output_type": "display_data"
    }
   ],
   "source": [
    "# KDE plots\n",
    "# Scores by Test Preparation\n",
    "# Scores by Weekly Study Hours\n",
    "\n",
    "sns.set_style('whitegrid')\n",
    "\n",
    "# Define figure size\n",
    "plt.figure(figsize=(12,4))\n",
    "\n",
    "# Create subplots\n",
    "plt.subplot(121)\n",
    "# Display kdeplot\n",
    "sns.kdeplot(data=students,\n",
    "            x=\"Scores\", \n",
    "            hue=\"TestPrep\", \n",
    "            fill=True, \n",
    "            alpha=0.3, \n",
    "            linewidth=1.7)\n",
    "# Add title\n",
    "plt.title('Scores by Test Preparation', \n",
    "          fontsize=16)\n",
    "\n",
    "plt.subplot(122)\n",
    "# Display kdeplot\n",
    "sns.kdeplot(data=students, \n",
    "            x=\"Scores\", \n",
    "            hue=\"WklyStudyHours\", \n",
    "            fill=True, \n",
    "            alpha=0.3, \n",
    "            linewidth=1.7)\n",
    "# Add title\n",
    "plt.title('Scores by Weekly Study Hours', \n",
    "          fontsize=16)\n",
    "\n",
    "# Adjust the spacing between subplots\n",
    "plt.tight_layout()"
   ]
  },
  {
   "cell_type": "markdown",
   "id": "070e78b1",
   "metadata": {},
   "source": [
    "Students who **prepare for tests** perform **better** than those who do not.\n",
    "\n",
    "**More study time** (more than 10 hours per week) leads to **higher** overall **grades**."
   ]
  },
  {
   "cell_type": "markdown",
   "id": "502a11cf",
   "metadata": {},
   "source": [
    "### Scores by Parent Education"
   ]
  },
  {
   "cell_type": "code",
   "execution_count": 19,
   "id": "3c46c35b",
   "metadata": {},
   "outputs": [
    {
     "data": {
      "image/png": "[encoded data removed]",
      "text/plain": [
       "<Figure size 864x288 with 2 Axes>"
      ]
     },
     "metadata": {},
     "output_type": "display_data"
    }
   ],
   "source": [
    "# Barplots\n",
    "# Parent Education\n",
    "# Scores grouped by Parent Education\n",
    "\n",
    "sns.set_style('darkgrid')\n",
    "\n",
    "# Group Scores by Parent Education\n",
    "parent_score = students.groupby(\n",
    "      'ParentEduc')['Scores'].\\\n",
    "       mean().sort_values(ascending=False)\n",
    "\n",
    "# Define figure size\n",
    "sns.set(rc={\"figure.figsize\":(12, 4)})\n",
    "\n",
    "# Create subplots\n",
    "plt.subplot(121)\n",
    "# Display barplot\n",
    "sns.countplot(data = students, \n",
    "              y ='ParentEduc',\n",
    "             palette=\"winter\")\n",
    "# Plot title\n",
    "plt.title('Parent Education', \n",
    "          fontsize=16)\n",
    "\n",
    "plt.subplot(122)\n",
    "# Display barplot\n",
    "sns.barplot(x=parent_score, \n",
    "            y=parent_score.index,\n",
    "           palette=\"winter\")\n",
    "# Plot title\n",
    "plt.title('Scores by Parent Education', \n",
    "          fontsize=16)\n",
    "\n",
    "# Adjust the spacing between subplots\n",
    "plt.tight_layout()"
   ]
  },
  {
   "cell_type": "markdown",
   "id": "7e6384bd",
   "metadata": {},
   "source": [
    "The **highest number** of **parents** have **some college** as education level and the **lowest number** have **master's degree**.\n",
    "\n",
    "**Parental education** has an **impact** on the **child's educational status**. \n",
    "\n",
    "**Students with parents** that have **master's degree** education level have the **highest overall score**. \n",
    "\n"
   ]
  },
  {
   "cell_type": "markdown",
   "id": "dae6ef39",
   "metadata": {},
   "source": [
    "### Scores by Gender"
   ]
  },
  {
   "cell_type": "code",
   "execution_count": 20,
   "id": "c25d23b8",
   "metadata": {},
   "outputs": [
    {
     "data": {
      "image/png": "[encoded data removed]",
      "text/plain": [
       "<Figure size 864x288 with 2 Axes>"
      ]
     },
     "metadata": {},
     "output_type": "display_data"
    }
   ],
   "source": [
    "# Boxplots\n",
    "# Math Score by Gender\n",
    "# overall Scores by Gender\n",
    "\n",
    "\n",
    "# Define figure size\n",
    "plt.figure(figsize=(12,4))\n",
    "\n",
    "# Create subplots\n",
    "plt.subplot(121)\n",
    "# Display barplot\n",
    "sns.boxplot(y='Gender', \n",
    "            x='MathScore', \n",
    "            data=students, \n",
    "            hue='Gender',\n",
    "            palette=\"YlGnBu_r\")\n",
    "# Add title\n",
    "plt.title('Math Score by Gender', \n",
    "          fontsize=16)\n",
    "\n",
    "plt.subplot(122)\n",
    "# Display barplot\n",
    "sns.boxplot(y='Gender', \n",
    "            x='Scores', \n",
    "            data=students, \n",
    "            hue='Gender',\n",
    "            palette=\"YlGnBu_r\")\n",
    "# Add title\n",
    "plt.title('Scores by Gender', \n",
    "          fontsize=16)\n",
    "\n",
    "# Adjust the spacing between subplots\n",
    "plt.tight_layout()"
   ]
  },
  {
   "cell_type": "markdown",
   "id": "5663f1de",
   "metadata": {},
   "source": [
    "We observe that **males perform better** than **females** in **Maths**.  **Overall score** is **higher** for **females** \n",
    "than **males**. \n",
    "\n",
    "In both cases this is evidenced by the **higher median** and **25th pecentile scores**."
   ]
  },
  {
   "cell_type": "markdown",
   "id": "8fea92da",
   "metadata": {},
   "source": [
    "### Scores by Ethnic Group and Practice Sport"
   ]
  },
  {
   "cell_type": "code",
   "execution_count": 21,
   "id": "1271ff43",
   "metadata": {},
   "outputs": [
    {
     "data": {
      "image/png": "[encoded data removed]",
      "text/plain": [
       "<Figure size 792x288 with 2 Axes>"
      ]
     },
     "metadata": {},
     "output_type": "display_data"
    }
   ],
   "source": [
    "# Create a figure and three subplots\n",
    "fig, axs = plt.subplots(1, 2, figsize=(11, 4))\n",
    "\n",
    "# Iterate over the columns and create the box plots\n",
    "columns = ['EthnicGroup', 'PracticeSport']\n",
    "for i, col in enumerate(columns):\n",
    "    ax = axs[i]\n",
    "    sns.countplot(y=students[col], \n",
    "                  ax=ax, palette=\"viridis\")\n",
    "    ax.set_title(col, fontsize=16)\n",
    "\n",
    "# Adjust the spacing between subplots\n",
    "plt.tight_layout()\n",
    "\n",
    "# Display the plot\n",
    "plt.show()"
   ]
  },
  {
   "cell_type": "markdown",
   "id": "9d99d983",
   "metadata": {},
   "source": [
    "Most students practice sport only sometimes. Ethnic Group C has the highest number of students."
   ]
  },
  {
   "cell_type": "code",
   "execution_count": 22,
   "id": "63931bfd",
   "metadata": {},
   "outputs": [
    {
     "data": {
      "image/png": "[encoded data removed]",
      "text/plain": [
       "<Figure size 864x288 with 2 Axes>"
      ]
     },
     "metadata": {},
     "output_type": "display_data"
    }
   ],
   "source": [
    "# Boxplots\n",
    "# Scores by Ethnic Group\n",
    "# Scores by Practice Sports\n",
    "\n",
    "\n",
    "# Define figure size\n",
    "plt.figure(figsize=(12,4))\n",
    "\n",
    "# Create subplots\n",
    "plt.subplot(121)\n",
    "# Display barplot\n",
    "sns.boxplot(y='EthnicGroup', \n",
    "            x='Scores', \n",
    "            data=students, \n",
    "            palette=\"YlGnBu_r\")  \n",
    "# Add title\n",
    "plt.title('Scores by Ethnic Group', \n",
    "          fontsize=16)\n",
    "\n",
    "plt.subplot(122)\n",
    "# Display barplot\n",
    "sns.boxplot(y='PracticeSport', \n",
    "            x='Scores', \n",
    "            data=students, \n",
    "            palette=\"YlGnBu_r\")\n",
    "# Add title\n",
    "plt.title('Scores by Practice Sport', \n",
    "          fontsize=16)\n",
    "\n",
    "# Adjust the spacing between subplots\n",
    "plt.tight_layout()"
   ]
  },
  {
   "cell_type": "markdown",
   "id": "548d2dc8",
   "metadata": {},
   "source": [
    "**Students** from **Ethnic Group E perform better** overall compared to their counterparts from other Ethnic groups recorded.\n",
    "\n",
    "Also, **students** who **practice sport regularly** have **higher overall grades** than those who don't."
   ]
  },
  {
   "cell_type": "markdown",
   "id": "3cdc1455",
   "metadata": {},
   "source": [
    "Other insights from the data are:\n",
    "   \n",
    "- The **number of siblings** of a student **does not affect** their grades\n",
    "- It has **no importance** for the grades if the student is **the first child** or not"
   ]
  },
  {
   "cell_type": "code",
   "execution_count": null,
   "id": "3a7d5832",
   "metadata": {},
   "outputs": [],
   "source": []
  }
 ],
 "metadata": {
  "kernelspec": {
   "display_name": "Python 3 (ipykernel)",
   "language": "python",
   "name": "python3"
  },
  "language_info": {
   "codemirror_mode": {
    "name": "ipython",
    "version": 3
   },
   "file_extension": ".py",
   "mimetype": "text/x-python",
   "name": "python",
   "nbconvert_exporter": "python",
   "pygments_lexer": "ipython3",
   "version": "3.9.12"
  }
 },
 "nbformat": 4,
 "nbformat_minor": 5
}
